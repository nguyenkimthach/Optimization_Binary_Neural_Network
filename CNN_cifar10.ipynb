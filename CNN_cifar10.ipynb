{
  "cells": [
    {
      "cell_type": "markdown",
      "metadata": {
        "id": "view-in-github",
        "colab_type": "text"
      },
      "source": [
        "<a href=\"https://colab.research.google.com/github/nguyenkimthach/Optimization_Binary_Neural_Network/blob/main/CNN_cifar10.ipynb\" target=\"_parent\"><img src=\"https://colab.research.google.com/assets/colab-badge.svg\" alt=\"Open In Colab\"/></a>"
      ]
    },
    {
      "cell_type": "code",
      "execution_count": null,
      "metadata": {
        "id": "MGeLJO_dJcnW"
      },
      "outputs": [],
      "source": [
        "!pip install larq\n",
        "!pip install tensorflow==2.7.2"
      ]
    },
    {
      "cell_type": "code",
      "execution_count": null,
      "metadata": {
        "id": "tToOvydn9LP6"
      },
      "outputs": [],
      "source": [
        "import tensorflow as tf\n",
        "import larq as lq\n",
        "import numpy as np\n",
        "import matplotlib.pyplot as plt"
      ]
    },
    {
      "cell_type": "code",
      "execution_count": null,
      "metadata": {
        "id": "PsVq9EYA9LP-"
      },
      "outputs": [],
      "source": [
        "num_classes = 10\n",
        "\n",
        "(train_images, train_labels), (test_images, test_labels) = tf.keras.datasets.cifar10.load_data()\n",
        "\n",
        "train_images = train_images.reshape((50000, 32, 32, 3)).astype(\"float32\")\n",
        "test_images = test_images.reshape((10000, 32, 32, 3)).astype(\"float32\")\n",
        "\n",
        "# Normalize pixel values to be between -1 and 1\n",
        "train_images, test_images = train_images / 127.5 - 1, test_images / 127.5 - 1\n",
        "\n",
        "train_labels = tf.keras.utils.to_categorical(train_labels, num_classes)\n",
        "test_labels = tf.keras.utils.to_categorical(test_labels, num_classes)"
      ]
    },
    {
      "cell_type": "code",
      "execution_count": null,
      "metadata": {
        "id": "7Btk2bEpWA2k"
      },
      "outputs": [],
      "source": [
        "from tensorflow.keras.layers import (\n",
        "    BatchNormalization, SeparableConv2D,Conv2D, MaxPooling2D, Activation, Flatten, Dropout, Dense\n",
        ")\n",
        "from keras.models import Sequential\n",
        "\n",
        "model = Sequential()\n",
        "\n",
        "# filters 32, size of filters (3,3)\n",
        "model.add(Conv2D(16, (3, 3), input_shape=(32, 32, 3), padding='same'))\n",
        "model.add(BatchNormalization(axis=-1)) #BatchNormalization normalizes the matrix after it is been through a convolution layer so that the scale of each dimension remains the same\n",
        "model.add(Activation('relu'))\n",
        "\n",
        "model.add(Conv2D(16, (3, 3)))\n",
        "model.add(BatchNormalization(axis=-1))\n",
        "model.add(Activation('relu'))\n",
        "model.add(MaxPooling2D(pool_size=(2,2)))\n",
        "\n",
        "model.add(Conv2D(32, (3, 3)))\n",
        "model.add(BatchNormalization(axis=-1))\n",
        "model.add(Activation('relu'))\n",
        "model.add(MaxPooling2D(pool_size=(2,2)))\n",
        "\n",
        "model.add(Conv2D(32,(3, 3)))\n",
        "model.add(BatchNormalization(axis=-1))\n",
        "model.add(Activation('relu'))\n",
        "model.add(MaxPooling2D(pool_size=(2,2)))\n",
        "model.add(Flatten()) # act as an input to the Dense layers.\n",
        "\n",
        "# Fully connected layer\n",
        "model.add(Dense(64))\n",
        "model.add(BatchNormalization())\n",
        "model.add(Activation('relu'))\n",
        "model.add(Dropout(0.2))\n",
        "\n",
        "model.add(Dense(num_classes))\n",
        "model.add(BatchNormalization())\n",
        "model.add(Activation('softmax')) # Softmax activation enables us to calculate the output based on the probabilities"
      ]
    },
    {
      "cell_type": "markdown",
      "metadata": {
        "id": "aSWeyZtn9LQG"
      },
      "source": [
        "## Model Training\n",
        "\n",
        "Compile the model and train the model"
      ]
    },
    {
      "cell_type": "code",
      "execution_count": null,
      "metadata": {
        "id": "jTsuZSA69LQI",
        "scrolled": true
      },
      "outputs": [],
      "source": [
        "model.summary()\n",
        "model.compile(\n",
        "    tf.keras.optimizers.Adam(learning_rate=0.01),\n",
        "    loss=\"categorical_crossentropy\",\n",
        "    metrics=[\"accuracy\"],\n",
        ")"
      ]
    },
    {
      "cell_type": "code",
      "execution_count": null,
      "metadata": {
        "id": "4rLbOiZC9LQI",
        "outputExpanded": true,
        "scrolled": true
      },
      "outputs": [],
      "source": [
        "trained_model = model.fit(\n",
        "    train_images,\n",
        "    train_labels,\n",
        "    batch_size=50,\n",
        "    epochs=30,\n",
        "    validation_data=(test_images, test_labels),\n",
        "    shuffle=True\n",
        ")"
      ]
    },
    {
      "cell_type": "markdown",
      "metadata": {
        "id": "zDa6KB829LQJ"
      },
      "source": [
        "## Model Output\n",
        "\n",
        "We can now plot the final validation accuracy and loss:"
      ]
    },
    {
      "cell_type": "code",
      "execution_count": null,
      "metadata": {
        "id": "iJczMWztyd16"
      },
      "outputs": [],
      "source": [
        "paras = trained_model.history['accuracy']\n",
        "paras.insert(0,0.25)\n",
        "plt.plot(paras)\n",
        "plt.plot(trained_model.history['accuracy'])\n",
        "#plt.plot(trained_model.history['val_accuracy'])\n",
        "plt.title('model accuracy')\n",
        "plt.ylabel('accuracy')\n",
        "plt.xlabel('epoch')\n",
        "plt.legend(['train', 'test'], loc='upper left')\n",
        "\n",
        "print(np.max(trained_model.history['accuracy']))"
      ]
    },
    {
      "cell_type": "code",
      "execution_count": null,
      "metadata": {
        "id": "U8ASqh8oyd16"
      },
      "outputs": [],
      "source": [
        "paras = trained_model.history['loss']\n",
        "paras.insert(0,1.6)\n",
        "plt.plot(paras)\n",
        "#plt.plot(trained_model.history['val_loss'])\n",
        "plt.title('model loss')\n",
        "plt.ylabel('loss')\n",
        "plt.xlabel('epoch')\n",
        "plt.legend(['train', 'test'], loc='upper left')\n",
        "\n",
        "print(np.min(trained_model.history['loss']))\n",
        "print(np.min(trained_model.history['val_loss']))"
      ]
    }
  ],
  "metadata": {
    "accelerator": "GPU",
    "colab": {
      "provenance": [],
      "include_colab_link": true
    },
    "gpuClass": "standard",
    "kernel_info": {
      "name": "python3"
    },
    "kernelspec": {
      "display_name": "Python 3",
      "language": "python",
      "name": "python3"
    },
    "language_info": {
      "codemirror_mode": {
        "name": "ipython",
        "version": 3
      },
      "file_extension": ".py",
      "mimetype": "text/x-python",
      "name": "python",
      "nbconvert_exporter": "python",
      "pygments_lexer": "ipython3",
      "version": "3.8.5"
    },
    "nteract": {
      "version": "0.14.3"
    }
  },
  "nbformat": 4,
  "nbformat_minor": 0
}