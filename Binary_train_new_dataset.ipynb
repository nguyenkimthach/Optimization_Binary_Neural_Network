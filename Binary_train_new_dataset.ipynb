{
  "cells": [
    {
      "cell_type": "markdown",
      "metadata": {
        "id": "view-in-github",
        "colab_type": "text"
      },
      "source": [
        "<a href=\"https://colab.research.google.com/github/nguyenkimthach/Optimization_Binary_Neural_Network/blob/main/Binary_train_new_dataset.ipynb\" target=\"_parent\"><img src=\"https://colab.research.google.com/assets/colab-badge.svg\" alt=\"Open In Colab\"/></a>"
      ]
    },
    {
      "cell_type": "code",
      "execution_count": null,
      "metadata": {
        "id": "GgcSMM0aGsrg"
      },
      "outputs": [],
      "source": [
        "#from google.colab import drive\n",
        "#drive.mount('/content/drive')\n",
        "\n",
        "#dataset_path = '/content/drive/MyDrive/newdataset/'\n",
        "train_path='/content/newdataset/train'\n",
        "test_path='/content/newdataset/test'\n"
      ]
    },
    {
      "cell_type": "code",
      "source": [
        "!pip install -q kaggle\n",
        "\n",
        "from google.colab import files\n",
        "files.upload()\n",
        "# Chọn file kaggle.json tải về ở bước 2 để tải lên\n",
        "\n",
        "!mkdir -p ~/.kaggle\n",
        "!cp kaggle.json ~/.kaggle/\n",
        "!chmod 600 ~/.kaggle/kaggle.json\n",
        "\n",
        "!kaggle datasets download -d kimthchnguyn/newdataset\n",
        "!unzip -uq \"/content/newdataset.zip\"\n"
      ],
      "metadata": {
        "colab": {
          "base_uri": "https://localhost:8080/",
          "height": 128
        },
        "id": "Ol3hRV3YjHcF",
        "outputId": "09a8aa8b-0e42-48fc-e32e-31d0224bc65d"
      },
      "execution_count": null,
      "outputs": [
        {
          "output_type": "display_data",
          "data": {
            "text/plain": [
              "<IPython.core.display.HTML object>"
            ],
            "text/html": [
              "\n",
              "     <input type=\"file\" id=\"files-b9acf9b2-7dbc-474e-8ce5-c0c763f9c579\" name=\"files[]\" multiple disabled\n",
              "        style=\"border:none\" />\n",
              "     <output id=\"result-b9acf9b2-7dbc-474e-8ce5-c0c763f9c579\">\n",
              "      Upload widget is only available when the cell has been executed in the\n",
              "      current browser session. Please rerun this cell to enable.\n",
              "      </output>\n",
              "      <script>// Copyright 2017 Google LLC\n",
              "//\n",
              "// Licensed under the Apache License, Version 2.0 (the \"License\");\n",
              "// you may not use this file except in compliance with the License.\n",
              "// You may obtain a copy of the License at\n",
              "//\n",
              "//      http://www.apache.org/licenses/LICENSE-2.0\n",
              "//\n",
              "// Unless required by applicable law or agreed to in writing, software\n",
              "// distributed under the License is distributed on an \"AS IS\" BASIS,\n",
              "// WITHOUT WARRANTIES OR CONDITIONS OF ANY KIND, either express or implied.\n",
              "// See the License for the specific language governing permissions and\n",
              "// limitations under the License.\n",
              "\n",
              "/**\n",
              " * @fileoverview Helpers for google.colab Python module.\n",
              " */\n",
              "(function(scope) {\n",
              "function span(text, styleAttributes = {}) {\n",
              "  const element = document.createElement('span');\n",
              "  element.textContent = text;\n",
              "  for (const key of Object.keys(styleAttributes)) {\n",
              "    element.style[key] = styleAttributes[key];\n",
              "  }\n",
              "  return element;\n",
              "}\n",
              "\n",
              "// Max number of bytes which will be uploaded at a time.\n",
              "const MAX_PAYLOAD_SIZE = 100 * 1024;\n",
              "\n",
              "function _uploadFiles(inputId, outputId) {\n",
              "  const steps = uploadFilesStep(inputId, outputId);\n",
              "  const outputElement = document.getElementById(outputId);\n",
              "  // Cache steps on the outputElement to make it available for the next call\n",
              "  // to uploadFilesContinue from Python.\n",
              "  outputElement.steps = steps;\n",
              "\n",
              "  return _uploadFilesContinue(outputId);\n",
              "}\n",
              "\n",
              "// This is roughly an async generator (not supported in the browser yet),\n",
              "// where there are multiple asynchronous steps and the Python side is going\n",
              "// to poll for completion of each step.\n",
              "// This uses a Promise to block the python side on completion of each step,\n",
              "// then passes the result of the previous step as the input to the next step.\n",
              "function _uploadFilesContinue(outputId) {\n",
              "  const outputElement = document.getElementById(outputId);\n",
              "  const steps = outputElement.steps;\n",
              "\n",
              "  const next = steps.next(outputElement.lastPromiseValue);\n",
              "  return Promise.resolve(next.value.promise).then((value) => {\n",
              "    // Cache the last promise value to make it available to the next\n",
              "    // step of the generator.\n",
              "    outputElement.lastPromiseValue = value;\n",
              "    return next.value.response;\n",
              "  });\n",
              "}\n",
              "\n",
              "/**\n",
              " * Generator function which is called between each async step of the upload\n",
              " * process.\n",
              " * @param {string} inputId Element ID of the input file picker element.\n",
              " * @param {string} outputId Element ID of the output display.\n",
              " * @return {!Iterable<!Object>} Iterable of next steps.\n",
              " */\n",
              "function* uploadFilesStep(inputId, outputId) {\n",
              "  const inputElement = document.getElementById(inputId);\n",
              "  inputElement.disabled = false;\n",
              "\n",
              "  const outputElement = document.getElementById(outputId);\n",
              "  outputElement.innerHTML = '';\n",
              "\n",
              "  const pickedPromise = new Promise((resolve) => {\n",
              "    inputElement.addEventListener('change', (e) => {\n",
              "      resolve(e.target.files);\n",
              "    });\n",
              "  });\n",
              "\n",
              "  const cancel = document.createElement('button');\n",
              "  inputElement.parentElement.appendChild(cancel);\n",
              "  cancel.textContent = 'Cancel upload';\n",
              "  const cancelPromise = new Promise((resolve) => {\n",
              "    cancel.onclick = () => {\n",
              "      resolve(null);\n",
              "    };\n",
              "  });\n",
              "\n",
              "  // Wait for the user to pick the files.\n",
              "  const files = yield {\n",
              "    promise: Promise.race([pickedPromise, cancelPromise]),\n",
              "    response: {\n",
              "      action: 'starting',\n",
              "    }\n",
              "  };\n",
              "\n",
              "  cancel.remove();\n",
              "\n",
              "  // Disable the input element since further picks are not allowed.\n",
              "  inputElement.disabled = true;\n",
              "\n",
              "  if (!files) {\n",
              "    return {\n",
              "      response: {\n",
              "        action: 'complete',\n",
              "      }\n",
              "    };\n",
              "  }\n",
              "\n",
              "  for (const file of files) {\n",
              "    const li = document.createElement('li');\n",
              "    li.append(span(file.name, {fontWeight: 'bold'}));\n",
              "    li.append(span(\n",
              "        `(${file.type || 'n/a'}) - ${file.size} bytes, ` +\n",
              "        `last modified: ${\n",
              "            file.lastModifiedDate ? file.lastModifiedDate.toLocaleDateString() :\n",
              "                                    'n/a'} - `));\n",
              "    const percent = span('0% done');\n",
              "    li.appendChild(percent);\n",
              "\n",
              "    outputElement.appendChild(li);\n",
              "\n",
              "    const fileDataPromise = new Promise((resolve) => {\n",
              "      const reader = new FileReader();\n",
              "      reader.onload = (e) => {\n",
              "        resolve(e.target.result);\n",
              "      };\n",
              "      reader.readAsArrayBuffer(file);\n",
              "    });\n",
              "    // Wait for the data to be ready.\n",
              "    let fileData = yield {\n",
              "      promise: fileDataPromise,\n",
              "      response: {\n",
              "        action: 'continue',\n",
              "      }\n",
              "    };\n",
              "\n",
              "    // Use a chunked sending to avoid message size limits. See b/62115660.\n",
              "    let position = 0;\n",
              "    do {\n",
              "      const length = Math.min(fileData.byteLength - position, MAX_PAYLOAD_SIZE);\n",
              "      const chunk = new Uint8Array(fileData, position, length);\n",
              "      position += length;\n",
              "\n",
              "      const base64 = btoa(String.fromCharCode.apply(null, chunk));\n",
              "      yield {\n",
              "        response: {\n",
              "          action: 'append',\n",
              "          file: file.name,\n",
              "          data: base64,\n",
              "        },\n",
              "      };\n",
              "\n",
              "      let percentDone = fileData.byteLength === 0 ?\n",
              "          100 :\n",
              "          Math.round((position / fileData.byteLength) * 100);\n",
              "      percent.textContent = `${percentDone}% done`;\n",
              "\n",
              "    } while (position < fileData.byteLength);\n",
              "  }\n",
              "\n",
              "  // All done.\n",
              "  yield {\n",
              "    response: {\n",
              "      action: 'complete',\n",
              "    }\n",
              "  };\n",
              "}\n",
              "\n",
              "scope.google = scope.google || {};\n",
              "scope.google.colab = scope.google.colab || {};\n",
              "scope.google.colab._files = {\n",
              "  _uploadFiles,\n",
              "  _uploadFilesContinue,\n",
              "};\n",
              "})(self);\n",
              "</script> "
            ]
          },
          "metadata": {}
        },
        {
          "output_type": "stream",
          "name": "stdout",
          "text": [
            "Saving kaggle.json to kaggle.json\n",
            "Downloading newdataset.zip to /content\n",
            " 85% 11.0M/13.0M [00:00<00:00, 51.4MB/s]\n",
            "100% 13.0M/13.0M [00:00<00:00, 55.6MB/s]\n"
          ]
        }
      ]
    },
    {
      "cell_type": "code",
      "execution_count": null,
      "metadata": {
        "id": "XQIghoNZRCCD",
        "colab": {
          "base_uri": "https://localhost:8080/"
        },
        "outputId": "3bbafddd-05e1-4f36-a884-470bfd11f681"
      },
      "outputs": [
        {
          "output_type": "stream",
          "name": "stdout",
          "text": [
            "Looking in indexes: https://pypi.org/simple, https://us-python.pkg.dev/colab-wheels/public/simple/\n",
            "Collecting numpy==1.19.5\n",
            "  Downloading numpy-1.19.5-cp39-cp39-manylinux2010_x86_64.whl (14.9 MB)\n",
            "\u001b[2K     \u001b[90m━━━━━━━━━━━━━━━━━━━━━━━━━━━━━━━━━━━━━━━━\u001b[0m \u001b[32m14.9/14.9 MB\u001b[0m \u001b[31m58.7 MB/s\u001b[0m eta \u001b[36m0:00:00\u001b[0m\n",
            "\u001b[?25hInstalling collected packages: numpy\n",
            "  Attempting uninstall: numpy\n",
            "    Found existing installation: numpy 1.22.4\n",
            "    Uninstalling numpy-1.22.4:\n",
            "      Successfully uninstalled numpy-1.22.4\n",
            "\u001b[31mERROR: pip's dependency resolver does not currently take into account all the packages that are installed. This behaviour is the source of the following dependency conflicts.\n",
            "xarray 2022.12.0 requires numpy>=1.20, but you have numpy 1.19.5 which is incompatible.\n",
            "xarray-einstats 0.5.1 requires numpy>=1.20, but you have numpy 1.19.5 which is incompatible.\n",
            "tensorflow 2.11.0 requires numpy>=1.20, but you have numpy 1.19.5 which is incompatible.\n",
            "matplotlib 3.7.1 requires numpy>=1.20, but you have numpy 1.19.5 which is incompatible.\n",
            "librosa 0.10.0.post2 requires numpy!=1.22.0,!=1.22.1,!=1.22.2,>=1.20.3, but you have numpy 1.19.5 which is incompatible.\n",
            "jaxlib 0.4.6+cuda11.cudnn86 requires numpy>=1.20, but you have numpy 1.19.5 which is incompatible.\n",
            "jax 0.4.6 requires numpy>=1.20, but you have numpy 1.19.5 which is incompatible.\n",
            "cupy-cuda11x 11.0.0 requires numpy<1.26,>=1.20, but you have numpy 1.19.5 which is incompatible.\n",
            "cmdstanpy 1.1.0 requires numpy>=1.21, but you have numpy 1.19.5 which is incompatible.\n",
            "astropy 5.2.1 requires numpy>=1.20, but you have numpy 1.19.5 which is incompatible.\n",
            "arviz 0.15.1 requires numpy>=1.20.0, but you have numpy 1.19.5 which is incompatible.\u001b[0m\u001b[31m\n",
            "\u001b[0mSuccessfully installed numpy-1.19.5\n",
            "Looking in indexes: https://pypi.org/simple, https://us-python.pkg.dev/colab-wheels/public/simple/\n",
            "Collecting tensorflow==2.7.0\n",
            "  Downloading tensorflow-2.7.0-cp39-cp39-manylinux2010_x86_64.whl (489.7 MB)\n",
            "\u001b[2K     \u001b[90m━━━━━━━━━━━━━━━━━━━━━━━━━━━━━━━━━━━━━━━\u001b[0m \u001b[32m489.7/489.7 MB\u001b[0m \u001b[31m3.1 MB/s\u001b[0m eta \u001b[36m0:00:00\u001b[0m\n",
            "\u001b[?25hRequirement already satisfied: gast<0.5.0,>=0.2.1 in /usr/local/lib/python3.9/dist-packages (from tensorflow==2.7.0) (0.4.0)\n",
            "Requirement already satisfied: opt-einsum>=2.3.2 in /usr/local/lib/python3.9/dist-packages (from tensorflow==2.7.0) (3.3.0)\n",
            "Requirement already satisfied: tensorflow-io-gcs-filesystem>=0.21.0 in /usr/local/lib/python3.9/dist-packages (from tensorflow==2.7.0) (0.31.0)\n",
            "Requirement already satisfied: tensorboard~=2.6 in /usr/local/lib/python3.9/dist-packages (from tensorflow==2.7.0) (2.11.2)\n",
            "Requirement already satisfied: libclang>=9.0.1 in /usr/local/lib/python3.9/dist-packages (from tensorflow==2.7.0) (15.0.6.1)\n",
            "Requirement already satisfied: astunparse>=1.6.0 in /usr/local/lib/python3.9/dist-packages (from tensorflow==2.7.0) (1.6.3)\n",
            "Requirement already satisfied: google-pasta>=0.1.1 in /usr/local/lib/python3.9/dist-packages (from tensorflow==2.7.0) (0.2.0)\n",
            "Requirement already satisfied: protobuf>=3.9.2 in /usr/local/lib/python3.9/dist-packages (from tensorflow==2.7.0) (3.19.6)\n",
            "Requirement already satisfied: typing-extensions>=3.6.6 in /usr/local/lib/python3.9/dist-packages (from tensorflow==2.7.0) (4.5.0)\n",
            "Collecting keras<2.8,>=2.7.0rc0\n",
            "  Downloading keras-2.7.0-py2.py3-none-any.whl (1.3 MB)\n",
            "\u001b[2K     \u001b[90m━━━━━━━━━━━━━━━━━━━━━━━━━━━━━━━━━━━━━━━━\u001b[0m \u001b[32m1.3/1.3 MB\u001b[0m \u001b[31m51.7 MB/s\u001b[0m eta \u001b[36m0:00:00\u001b[0m\n",
            "\u001b[?25hRequirement already satisfied: six>=1.12.0 in /usr/local/lib/python3.9/dist-packages (from tensorflow==2.7.0) (1.16.0)\n",
            "Collecting keras-preprocessing>=1.1.1\n",
            "  Downloading Keras_Preprocessing-1.1.2-py2.py3-none-any.whl (42 kB)\n",
            "\u001b[2K     \u001b[90m━━━━━━━━━━━━━━━━━━━━━━━━━━━━━━━━━━━━━━━━\u001b[0m \u001b[32m42.6/42.6 KB\u001b[0m \u001b[31m5.0 MB/s\u001b[0m eta \u001b[36m0:00:00\u001b[0m\n",
            "\u001b[?25hRequirement already satisfied: absl-py>=0.4.0 in /usr/local/lib/python3.9/dist-packages (from tensorflow==2.7.0) (1.4.0)\n",
            "Requirement already satisfied: wrapt>=1.11.0 in /usr/local/lib/python3.9/dist-packages (from tensorflow==2.7.0) (1.15.0)\n",
            "Requirement already satisfied: wheel<1.0,>=0.32.0 in /usr/local/lib/python3.9/dist-packages (from tensorflow==2.7.0) (0.40.0)\n",
            "Requirement already satisfied: numpy>=1.14.5 in /usr/local/lib/python3.9/dist-packages (from tensorflow==2.7.0) (1.19.5)\n",
            "Collecting tensorflow-estimator<2.8,~=2.7.0rc0\n",
            "  Downloading tensorflow_estimator-2.7.0-py2.py3-none-any.whl (463 kB)\n",
            "\u001b[2K     \u001b[90m━━━━━━━━━━━━━━━━━━━━━━━━━━━━━━━━━━━━━━\u001b[0m \u001b[32m463.1/463.1 KB\u001b[0m \u001b[31m27.0 MB/s\u001b[0m eta \u001b[36m0:00:00\u001b[0m\n",
            "\u001b[?25hRequirement already satisfied: termcolor>=1.1.0 in /usr/local/lib/python3.9/dist-packages (from tensorflow==2.7.0) (2.2.0)\n",
            "Collecting flatbuffers<3.0,>=1.12\n",
            "  Downloading flatbuffers-2.0.7-py2.py3-none-any.whl (26 kB)\n",
            "Requirement already satisfied: h5py>=2.9.0 in /usr/local/lib/python3.9/dist-packages (from tensorflow==2.7.0) (3.8.0)\n",
            "Requirement already satisfied: grpcio<2.0,>=1.24.3 in /usr/local/lib/python3.9/dist-packages (from tensorflow==2.7.0) (1.51.3)\n",
            "Requirement already satisfied: tensorboard-plugin-wit>=1.6.0 in /usr/local/lib/python3.9/dist-packages (from tensorboard~=2.6->tensorflow==2.7.0) (1.8.1)\n",
            "Requirement already satisfied: setuptools>=41.0.0 in /usr/local/lib/python3.9/dist-packages (from tensorboard~=2.6->tensorflow==2.7.0) (67.6.0)\n",
            "Requirement already satisfied: tensorboard-data-server<0.7.0,>=0.6.0 in /usr/local/lib/python3.9/dist-packages (from tensorboard~=2.6->tensorflow==2.7.0) (0.6.1)\n",
            "Requirement already satisfied: google-auth<3,>=1.6.3 in /usr/local/lib/python3.9/dist-packages (from tensorboard~=2.6->tensorflow==2.7.0) (2.16.2)\n",
            "Requirement already satisfied: markdown>=2.6.8 in /usr/local/lib/python3.9/dist-packages (from tensorboard~=2.6->tensorflow==2.7.0) (3.4.3)\n",
            "Requirement already satisfied: werkzeug>=1.0.1 in /usr/local/lib/python3.9/dist-packages (from tensorboard~=2.6->tensorflow==2.7.0) (2.2.3)\n",
            "Requirement already satisfied: requests<3,>=2.21.0 in /usr/local/lib/python3.9/dist-packages (from tensorboard~=2.6->tensorflow==2.7.0) (2.27.1)\n",
            "Requirement already satisfied: google-auth-oauthlib<0.5,>=0.4.1 in /usr/local/lib/python3.9/dist-packages (from tensorboard~=2.6->tensorflow==2.7.0) (0.4.6)\n",
            "Requirement already satisfied: cachetools<6.0,>=2.0.0 in /usr/local/lib/python3.9/dist-packages (from google-auth<3,>=1.6.3->tensorboard~=2.6->tensorflow==2.7.0) (5.3.0)\n",
            "Requirement already satisfied: rsa<5,>=3.1.4 in /usr/local/lib/python3.9/dist-packages (from google-auth<3,>=1.6.3->tensorboard~=2.6->tensorflow==2.7.0) (4.9)\n",
            "Requirement already satisfied: pyasn1-modules>=0.2.1 in /usr/local/lib/python3.9/dist-packages (from google-auth<3,>=1.6.3->tensorboard~=2.6->tensorflow==2.7.0) (0.2.8)\n",
            "Requirement already satisfied: requests-oauthlib>=0.7.0 in /usr/local/lib/python3.9/dist-packages (from google-auth-oauthlib<0.5,>=0.4.1->tensorboard~=2.6->tensorflow==2.7.0) (1.3.1)\n",
            "Requirement already satisfied: importlib-metadata>=4.4 in /usr/local/lib/python3.9/dist-packages (from markdown>=2.6.8->tensorboard~=2.6->tensorflow==2.7.0) (6.1.0)\n",
            "Requirement already satisfied: charset-normalizer~=2.0.0 in /usr/local/lib/python3.9/dist-packages (from requests<3,>=2.21.0->tensorboard~=2.6->tensorflow==2.7.0) (2.0.12)\n",
            "Requirement already satisfied: idna<4,>=2.5 in /usr/local/lib/python3.9/dist-packages (from requests<3,>=2.21.0->tensorboard~=2.6->tensorflow==2.7.0) (3.4)\n",
            "Requirement already satisfied: certifi>=2017.4.17 in /usr/local/lib/python3.9/dist-packages (from requests<3,>=2.21.0->tensorboard~=2.6->tensorflow==2.7.0) (2022.12.7)\n",
            "Requirement already satisfied: urllib3<1.27,>=1.21.1 in /usr/local/lib/python3.9/dist-packages (from requests<3,>=2.21.0->tensorboard~=2.6->tensorflow==2.7.0) (1.26.15)\n",
            "Requirement already satisfied: MarkupSafe>=2.1.1 in /usr/local/lib/python3.9/dist-packages (from werkzeug>=1.0.1->tensorboard~=2.6->tensorflow==2.7.0) (2.1.2)\n",
            "Requirement already satisfied: zipp>=0.5 in /usr/local/lib/python3.9/dist-packages (from importlib-metadata>=4.4->markdown>=2.6.8->tensorboard~=2.6->tensorflow==2.7.0) (3.15.0)\n",
            "Requirement already satisfied: pyasn1<0.5.0,>=0.4.6 in /usr/local/lib/python3.9/dist-packages (from pyasn1-modules>=0.2.1->google-auth<3,>=1.6.3->tensorboard~=2.6->tensorflow==2.7.0) (0.4.8)\n",
            "Requirement already satisfied: oauthlib>=3.0.0 in /usr/local/lib/python3.9/dist-packages (from requests-oauthlib>=0.7.0->google-auth-oauthlib<0.5,>=0.4.1->tensorboard~=2.6->tensorflow==2.7.0) (3.2.2)\n",
            "Installing collected packages: tensorflow-estimator, keras, flatbuffers, keras-preprocessing, tensorflow\n",
            "  Attempting uninstall: tensorflow-estimator\n",
            "    Found existing installation: tensorflow-estimator 2.11.0\n",
            "    Uninstalling tensorflow-estimator-2.11.0:\n",
            "      Successfully uninstalled tensorflow-estimator-2.11.0\n",
            "  Attempting uninstall: keras\n",
            "    Found existing installation: keras 2.11.0\n",
            "    Uninstalling keras-2.11.0:\n",
            "      Successfully uninstalled keras-2.11.0\n",
            "  Attempting uninstall: flatbuffers\n",
            "    Found existing installation: flatbuffers 23.3.3\n",
            "    Uninstalling flatbuffers-23.3.3:\n",
            "      Successfully uninstalled flatbuffers-23.3.3\n",
            "  Attempting uninstall: tensorflow\n",
            "    Found existing installation: tensorflow 2.11.0\n",
            "    Uninstalling tensorflow-2.11.0:\n",
            "      Successfully uninstalled tensorflow-2.11.0\n",
            "Successfully installed flatbuffers-2.0.7 keras-2.7.0 keras-preprocessing-1.1.2 tensorflow-2.7.0 tensorflow-estimator-2.7.0\n"
          ]
        }
      ],
      "source": [
        "!pip install numpy==1.19.5\n",
        "!pip install tensorflow==2.7.0"
      ]
    },
    {
      "cell_type": "code",
      "execution_count": null,
      "metadata": {
        "id": "iOXlYQQr47Es",
        "colab": {
          "base_uri": "https://localhost:8080/"
        },
        "outputId": "d15c2a0f-0e1b-4fdd-be80-3cfa65c580c1"
      },
      "outputs": [
        {
          "output_type": "stream",
          "name": "stdout",
          "text": [
            "Looking in indexes: https://pypi.org/simple, https://us-python.pkg.dev/colab-wheels/public/simple/\n",
            "Requirement already satisfied: pyyaml in /usr/local/lib/python3.9/dist-packages (6.0)\n",
            "Requirement already satisfied: h5py in /usr/local/lib/python3.9/dist-packages (3.8.0)\n",
            "Requirement already satisfied: numpy>=1.14.5 in /usr/local/lib/python3.9/dist-packages (from h5py) (1.19.5)\n"
          ]
        }
      ],
      "source": [
        "!pip install pyyaml h5py"
      ]
    },
    {
      "cell_type": "code",
      "execution_count": null,
      "metadata": {
        "id": "dXasMuASyd1k",
        "colab": {
          "base_uri": "https://localhost:8080/"
        },
        "outputId": "bc24721d-79fb-45d7-8d4c-e5b6dc38c736"
      },
      "outputs": [
        {
          "output_type": "stream",
          "name": "stdout",
          "text": [
            "Looking in indexes: https://pypi.org/simple, https://us-python.pkg.dev/colab-wheels/public/simple/\n",
            "Collecting larq\n",
            "  Downloading larq-0.13.0-py3-none-any.whl (65 kB)\n",
            "\u001b[2K     \u001b[90m━━━━━━━━━━━━━━━━━━━━━━━━━━━━━━━━━━━━━━━━\u001b[0m \u001b[32m65.5/65.5 KB\u001b[0m \u001b[31m3.1 MB/s\u001b[0m eta \u001b[36m0:00:00\u001b[0m\n",
            "\u001b[?25hCollecting terminaltables>=3.1.0\n",
            "  Downloading terminaltables-3.1.10-py2.py3-none-any.whl (15 kB)\n",
            "Requirement already satisfied: numpy<2.0,>=1.15.4 in /usr/local/lib/python3.9/dist-packages (from larq) (1.19.5)\n",
            "Requirement already satisfied: packaging>=19.2 in /usr/local/lib/python3.9/dist-packages (from larq) (23.0)\n",
            "Installing collected packages: terminaltables, larq\n",
            "Successfully installed larq-0.13.0 terminaltables-3.1.10\n"
          ]
        }
      ],
      "source": [
        "!pip install larq"
      ]
    },
    {
      "cell_type": "code",
      "execution_count": null,
      "metadata": {
        "id": "fkf5eqw_xPM1",
        "colab": {
          "base_uri": "https://localhost:8080/"
        },
        "outputId": "9818875e-93d3-47f9-fd33-5ba4ef913558"
      },
      "outputs": [
        {
          "output_type": "stream",
          "name": "stdout",
          "text": [
            "2.7.0\n"
          ]
        }
      ],
      "source": [
        "import tensorflow as tf\n",
        "from tensorflow import keras\n",
        "import larq as lq\n",
        "import numpy as np\n",
        "import os\n",
        "import matplotlib.pyplot as plt\n",
        "from imutils import paths\n",
        "from sklearn import preprocessing\n",
        "from keras.preprocessing import image\n",
        "from keras.preprocessing.image import ImageDataGenerator\n",
        "import cv2\n",
        "from keras.utils import np_utils\n",
        "print(tf.__version__)"
      ]
    },
    {
      "cell_type": "code",
      "execution_count": null,
      "metadata": {
        "id": "ZZWDEKy0cjhK"
      },
      "outputs": [],
      "source": [
        "def convert_to_binary(img_grayscale, thresh=100):\n",
        "    thresh, img_binary = cv2.threshold(img_grayscale, thresh, maxval=255, type=cv2.THRESH_BINARY)\n",
        "    return img_binary"
      ]
    },
    {
      "cell_type": "code",
      "execution_count": null,
      "metadata": {
        "id": "ACkALhcCyFT9"
      },
      "outputs": [],
      "source": [
        "data = []\n",
        "labels = []\n",
        "\n",
        "imagePaths = list(paths.list_images(train_path))\n",
        "# loop over the image paths\n",
        "for imagePath in imagePaths:\n",
        "    label = imagePath.split(os.path.sep)[-2]\n",
        "    image = cv2.imread(imagePath, 0)\n",
        "    image = convert_to_binary(image, thresh=150)\n",
        "    image = cv2.resize(image, (64, 64))\n",
        "    # image = image/255.0\n",
        "    # fd, hog_image = hog(image, orientations=8, pixels_per_cell=(16, 16),\n",
        "    #                 cells_per_block=(1, 1), visualize=True, multichannel=True)\n",
        "    # print(image)\n",
        "    data.append(image)\n",
        "    labels.append(label)\n",
        "#print(labels)\n",
        "le = preprocessing.LabelEncoder()\n",
        "le.fit(labels)\n",
        "labels = le.transform(labels)\n",
        "#print(labels)\n",
        "\n",
        "data = np.array(data)\n",
        "x_train = data.astype('float32')\n",
        "\n",
        "x_train /= 255\n",
        "y_train = np_utils.to_categorical(labels, 3)\n",
        "\n",
        "#print(y_train)\n",
        "img_width, img_height = 64, 64\n",
        "\n",
        "train_data_dir = 'data/train'\n",
        "#validation_data_dir = 'data/test'\n",
        "nb_train_samples = 330\n",
        "nb_validation_samples = 60\n"
      ]
    },
    {
      "cell_type": "code",
      "execution_count": null,
      "metadata": {
        "id": "PqnMWNopdlc4",
        "colab": {
          "base_uri": "https://localhost:8080/"
        },
        "outputId": "de00b07e-e615-4e8a-9147-5ef9cc2ddcfe"
      },
      "outputs": [
        {
          "output_type": "stream",
          "name": "stdout",
          "text": [
            "(4990, 64, 64)\n",
            "(303, 64, 64)\n",
            "(4990, 3)\n",
            "(303, 3)\n"
          ]
        }
      ],
      "source": [
        "data = []\n",
        "labels = []\n",
        "\n",
        "imagePaths = list(paths.list_images(test_path))\n",
        "# loop over the image paths\n",
        "for imagePath in imagePaths:\n",
        "    label = imagePath.split(os.path.sep)[-2]\n",
        "    image = cv2.imread(imagePath, 0)\n",
        "    image = convert_to_binary(image, thresh=150)\n",
        "    image = cv2.resize(image, (64, 64))\n",
        "    # image = image/255.0\n",
        "    # fd, hog_image = hog(image, orientations=8, pixels_per_cell=(16, 16),\n",
        "    #                 cells_per_block=(1, 1), visualize=True, multichannel=True)\n",
        "    # print(image)\n",
        "    data.append(image)\n",
        "    labels.append(label)\n",
        "#print(labels)\n",
        "le = preprocessing.LabelEncoder()\n",
        "le.fit(labels)\n",
        "labels = le.transform(labels)\n",
        "#print(labels)\n",
        "\n",
        "data = np.array(data)\n",
        "x_test = data.astype('float32')\n",
        "\n",
        "x_test /= 255\n",
        "y_test = np_utils.to_categorical(labels, 3)\n",
        "\n",
        "#print(y_train)\n",
        "img_width, img_height = 64, 64\n",
        "\n",
        "#train_data_dir = 'data/train'\n",
        "validation_data_dir = 'data/test'\n",
        "nb_train_samples = 330\n",
        "nb_validation_samples = 60\n",
        "\n",
        "print(x_train.shape )\n",
        "print(x_test.shape )\n",
        "print(y_train.shape )\n",
        "print(y_test.shape )"
      ]
    },
    {
      "cell_type": "code",
      "execution_count": null,
      "metadata": {
        "id": "e3iFcARKyd1u"
      },
      "outputs": [],
      "source": [
        "# All quantized layers except the first will use the same options\n",
        "kwargs = dict(input_quantizer=\"ste_sign\",\n",
        "              kernel_quantizer=\"ste_sign\",\n",
        "              kernel_constraint=\"weight_clip\",\n",
        "              use_bias=False)\n",
        "\n",
        "model = tf.keras.models.Sequential([\n",
        "    # In the first layer we only quantize the weights and not the input\n",
        "    lq.layers.QuantConv2D(128, 3,\n",
        "                          kernel_quantizer=\"ste_sign\",\n",
        "                          kernel_constraint=\"weight_clip\",\n",
        "                          use_bias=False,\n",
        "                          input_shape=(64, 64, 1)),\n",
        "    tf.keras.layers.BatchNormalization(momentum=0.999, scale=False),\n",
        "\n",
        "    lq.layers.QuantConv2D(128, 3, padding=\"same\", **kwargs),\n",
        "    tf.keras.layers.MaxPool2D(pool_size=(2, 2), strides=(2, 2)),\n",
        "    tf.keras.layers.BatchNormalization(momentum=0.999, scale=False),\n",
        "\n",
        "    lq.layers.QuantConv2D(256, 3, padding=\"same\", **kwargs),\n",
        "    tf.keras.layers.BatchNormalization(momentum=0.999, scale=False),\n",
        "\n",
        "    lq.layers.QuantConv2D(256, 3, padding=\"same\", **kwargs),\n",
        "    tf.keras.layers.MaxPool2D(pool_size=(2, 2), strides=(2, 2)),\n",
        "    tf.keras.layers.BatchNormalization(momentum=0.999, scale=False),\n",
        "\n",
        "    lq.layers.QuantConv2D(512, 3, padding=\"same\", **kwargs),\n",
        "    tf.keras.layers.BatchNormalization(momentum=0.999, scale=False),\n",
        "\n",
        "    lq.layers.QuantConv2D(512, 3, padding=\"same\", **kwargs),\n",
        "    tf.keras.layers.MaxPool2D(pool_size=(2, 2), strides=(2, 2)),\n",
        "    tf.keras.layers.BatchNormalization(momentum=0.999, scale=False),\n",
        "    tf.keras.layers.Flatten(),\n",
        "\n",
        "    lq.layers.QuantDense(1024, **kwargs),\n",
        "    tf.keras.layers.BatchNormalization(momentum=0.999, scale=False),\n",
        "\n",
        "    lq.layers.QuantDense(1024, **kwargs),\n",
        "    tf.keras.layers.BatchNormalization(momentum=0.999, scale=False),\n",
        "\n",
        "    lq.layers.QuantDense(3, **kwargs),\n",
        "    tf.keras.layers.BatchNormalization(momentum=0.999, scale=False),\n",
        "    tf.keras.layers.Activation(\"softmax\")\n",
        "])"
      ]
    },
    {
      "cell_type": "code",
      "execution_count": null,
      "metadata": {
        "id": "Dy_fgFUhyd1x",
        "colab": {
          "base_uri": "https://localhost:8080/"
        },
        "outputId": "075e426f-789b-4f32-cac7-3629184c5b6c"
      },
      "outputs": [
        {
          "output_type": "stream",
          "name": "stdout",
          "text": [
            "+sequential stats---------------------------------------------------------------------------------------------+\n",
            "| Layer                  Input prec.            Outputs   # 1-bit  # 32-bit   Memory  1-bit MACs  32-bit MACs |\n",
            "|                              (bit)                          x 1       x 1     (kB)                          |\n",
            "+-------------------------------------------------------------------------------------------------------------+\n",
            "| quant_conv2d                     -  (-1, 62, 62, 128)      1152         0     0.14           0      4428288 |\n",
            "| batch_normalization              -  (-1, 62, 62, 128)         0       256     1.00           0            0 |\n",
            "| quant_conv2d_1                   1  (-1, 62, 62, 128)    147456         0    18.00   566820864            0 |\n",
            "| max_pooling2d                    -  (-1, 31, 31, 128)         0         0        0           0            0 |\n",
            "| batch_normalization_1            -  (-1, 31, 31, 128)         0       256     1.00           0            0 |\n",
            "| quant_conv2d_2                   1  (-1, 31, 31, 256)    294912         0    36.00   283410432            0 |\n",
            "| batch_normalization_2            -  (-1, 31, 31, 256)         0       512     2.00           0            0 |\n",
            "| quant_conv2d_3                   1  (-1, 31, 31, 256)    589824         0    72.00   566820864            0 |\n",
            "| max_pooling2d_1                  -  (-1, 15, 15, 256)         0         0        0           0            0 |\n",
            "| batch_normalization_3            -  (-1, 15, 15, 256)         0       512     2.00           0            0 |\n",
            "| quant_conv2d_4                   1  (-1, 15, 15, 512)   1179648         0   144.00   265420800            0 |\n",
            "| batch_normalization_4            -  (-1, 15, 15, 512)         0      1024     4.00           0            0 |\n",
            "| quant_conv2d_5                   1  (-1, 15, 15, 512)   2359296         0   288.00   530841600            0 |\n",
            "| max_pooling2d_2                  -    (-1, 7, 7, 512)         0         0        0           0            0 |\n",
            "| batch_normalization_5            -    (-1, 7, 7, 512)         0      1024     4.00           0            0 |\n",
            "| flatten                          -        (-1, 25088)         0         0        0           0            0 |\n",
            "| quant_dense                      1         (-1, 1024)  25690112         0  3136.00    25690112            0 |\n",
            "| batch_normalization_6            -         (-1, 1024)         0      2048     8.00           0            0 |\n",
            "| quant_dense_1                    1         (-1, 1024)   1048576         0   128.00     1048576            0 |\n",
            "| batch_normalization_7            -         (-1, 1024)         0      2048     8.00           0            0 |\n",
            "| quant_dense_2                    1            (-1, 3)      3072         0     0.38        3072            0 |\n",
            "| batch_normalization_8            -            (-1, 3)         0         6     0.02           0            0 |\n",
            "| activation                       -            (-1, 3)         0         0        0           ?            ? |\n",
            "+-------------------------------------------------------------------------------------------------------------+\n",
            "| Total                                                  31314048      7686  3852.54  2240056320      4428288 |\n",
            "+-------------------------------------------------------------------------------------------------------------+\n",
            "+sequential summary----------------------------+\n",
            "| Total params                      31.3 M     |\n",
            "| Trainable params                  31.3 M     |\n",
            "| Non-trainable params              7.69 k     |\n",
            "| Model size                        3.76 MiB   |\n",
            "| Model size (8-bit FP weights)     3.74 MiB   |\n",
            "| Float-32 Equivalent               119.48 MiB |\n",
            "| Compression Ratio of Memory       0.03       |\n",
            "| Number of MACs                    2.24 B     |\n",
            "| Ratio of MACs that are binarized  0.9980     |\n",
            "+----------------------------------------------+\n"
          ]
        }
      ],
      "source": [
        "lq.models.summary(model)"
      ]
    },
    {
      "cell_type": "code",
      "execution_count": null,
      "metadata": {
        "id": "9af5Q4Sjyd12",
        "scrolled": true
      },
      "outputs": [],
      "source": [
        "model.compile(\n",
        "    tf.keras.optimizers.Adam(learning_rate=0.01),\n",
        "    loss=\"categorical_crossentropy\",\n",
        "    metrics=[\"accuracy\"],\n",
        ")"
      ]
    },
    {
      "cell_type": "code",
      "execution_count": null,
      "metadata": {
        "colab": {
          "base_uri": "https://localhost:8080/"
        },
        "id": "mOrGniIeyd14",
        "scrolled": true,
        "outputId": "612db902-eef3-4d33-94f2-5da9228d5217"
      },
      "outputs": [
        {
          "output_type": "stream",
          "name": "stdout",
          "text": [
            "Epoch 1/50\n",
            "333/333 [==============================] - 32s 55ms/step - loss: 0.8122 - accuracy: 0.6471 - val_loss: 3.3721 - val_accuracy: 0.3333\n",
            "Epoch 2/50\n",
            "333/333 [==============================] - 16s 48ms/step - loss: 0.3340 - accuracy: 0.9425 - val_loss: 2.0804 - val_accuracy: 0.3333\n",
            "Epoch 3/50\n",
            "333/333 [==============================] - 16s 48ms/step - loss: 0.2887 - accuracy: 0.9737 - val_loss: 1.7698 - val_accuracy: 0.3333\n",
            "Epoch 4/50\n",
            "333/333 [==============================] - 16s 49ms/step - loss: 0.2723 - accuracy: 0.9868 - val_loss: 1.6645 - val_accuracy: 0.3333\n",
            "Epoch 5/50\n",
            "333/333 [==============================] - 17s 51ms/step - loss: 0.2729 - accuracy: 0.9842 - val_loss: 1.6119 - val_accuracy: 0.3333\n",
            "Epoch 6/50\n",
            "333/333 [==============================] - 16s 49ms/step - loss: 0.2691 - accuracy: 0.9868 - val_loss: 1.5266 - val_accuracy: 0.3333\n",
            "Epoch 7/50\n",
            "333/333 [==============================] - 16s 49ms/step - loss: 0.2681 - accuracy: 0.9904 - val_loss: 1.3175 - val_accuracy: 0.3333\n",
            "Epoch 8/50\n",
            "333/333 [==============================] - 16s 49ms/step - loss: 0.2693 - accuracy: 0.9884 - val_loss: 1.2917 - val_accuracy: 0.3333\n",
            "Epoch 9/50\n",
            "333/333 [==============================] - 16s 49ms/step - loss: 0.2694 - accuracy: 0.9886 - val_loss: 1.6127 - val_accuracy: 0.3333\n",
            "Epoch 10/50\n",
            "333/333 [==============================] - 17s 50ms/step - loss: 0.2638 - accuracy: 0.9904 - val_loss: 1.3317 - val_accuracy: 0.3333\n",
            "Epoch 11/50\n",
            "333/333 [==============================] - 16s 49ms/step - loss: 0.2621 - accuracy: 0.9940 - val_loss: 1.2511 - val_accuracy: 0.3333\n",
            "Epoch 12/50\n",
            "333/333 [==============================] - 16s 49ms/step - loss: 0.2632 - accuracy: 0.9926 - val_loss: 0.8568 - val_accuracy: 0.5644\n",
            "Epoch 13/50\n",
            "333/333 [==============================] - 16s 49ms/step - loss: 0.2642 - accuracy: 0.9942 - val_loss: 1.7081 - val_accuracy: 0.3333\n",
            "Epoch 14/50\n",
            "333/333 [==============================] - 16s 49ms/step - loss: 0.2686 - accuracy: 0.9894 - val_loss: 1.7986 - val_accuracy: 0.3333\n",
            "Epoch 15/50\n",
            "333/333 [==============================] - 16s 49ms/step - loss: 0.2631 - accuracy: 0.9944 - val_loss: 1.7730 - val_accuracy: 0.3333\n",
            "Epoch 16/50\n",
            "333/333 [==============================] - 16s 49ms/step - loss: 0.2617 - accuracy: 0.9952 - val_loss: 1.3786 - val_accuracy: 0.3432\n",
            "Epoch 17/50\n",
            "333/333 [==============================] - 17s 50ms/step - loss: 0.2592 - accuracy: 0.9958 - val_loss: 0.9053 - val_accuracy: 0.3366\n",
            "Epoch 18/50\n",
            "333/333 [==============================] - 17s 52ms/step - loss: 0.2583 - accuracy: 0.9964 - val_loss: 1.6245 - val_accuracy: 0.3333\n",
            "Epoch 19/50\n",
            "333/333 [==============================] - 16s 49ms/step - loss: 0.2585 - accuracy: 0.9976 - val_loss: 1.6350 - val_accuracy: 0.3333\n",
            "Epoch 20/50\n",
            "333/333 [==============================] - 16s 49ms/step - loss: 0.2564 - accuracy: 0.9974 - val_loss: 1.4796 - val_accuracy: 0.3333\n",
            "Epoch 21/50\n",
            "333/333 [==============================] - 16s 49ms/step - loss: 0.2546 - accuracy: 0.9984 - val_loss: 1.5749 - val_accuracy: 0.3333\n",
            "Epoch 22/50\n",
            "333/333 [==============================] - 16s 49ms/step - loss: 0.2553 - accuracy: 0.9970 - val_loss: 1.3245 - val_accuracy: 0.3333\n",
            "Epoch 23/50\n",
            "333/333 [==============================] - 16s 49ms/step - loss: 0.2612 - accuracy: 0.9944 - val_loss: 1.5901 - val_accuracy: 0.3333\n",
            "Epoch 24/50\n",
            "333/333 [==============================] - 17s 51ms/step - loss: 0.2572 - accuracy: 0.9974 - val_loss: 0.4330 - val_accuracy: 0.9274\n",
            "Epoch 25/50\n",
            "333/333 [==============================] - 16s 49ms/step - loss: 0.2574 - accuracy: 0.9978 - val_loss: 1.5677 - val_accuracy: 0.3333\n",
            "Epoch 26/50\n",
            "333/333 [==============================] - 17s 50ms/step - loss: 0.2538 - accuracy: 0.9992 - val_loss: 1.6310 - val_accuracy: 0.3333\n",
            "Epoch 27/50\n",
            "333/333 [==============================] - 17s 50ms/step - loss: 0.2565 - accuracy: 0.9984 - val_loss: 1.0858 - val_accuracy: 0.6007\n",
            "Epoch 28/50\n",
            "333/333 [==============================] - 17s 50ms/step - loss: 0.2619 - accuracy: 0.9944 - val_loss: 1.0876 - val_accuracy: 0.5941\n",
            "Epoch 29/50\n",
            "333/333 [==============================] - 17s 51ms/step - loss: 0.2645 - accuracy: 0.9936 - val_loss: 1.3120 - val_accuracy: 0.3333\n",
            "Epoch 30/50\n",
            "333/333 [==============================] - 17s 50ms/step - loss: 0.2585 - accuracy: 0.9966 - val_loss: 1.6181 - val_accuracy: 0.3333\n",
            "Epoch 31/50\n",
            "333/333 [==============================] - 16s 49ms/step - loss: 0.2530 - accuracy: 0.9990 - val_loss: 1.4525 - val_accuracy: 0.3333\n",
            "Epoch 32/50\n",
            "333/333 [==============================] - 16s 49ms/step - loss: 0.2540 - accuracy: 0.9988 - val_loss: 0.2701 - val_accuracy: 1.0000\n",
            "Epoch 33/50\n",
            "333/333 [==============================] - 16s 49ms/step - loss: 0.2573 - accuracy: 0.9984 - val_loss: 1.6261 - val_accuracy: 0.3333\n",
            "Epoch 34/50\n",
            "333/333 [==============================] - 16s 49ms/step - loss: 0.2592 - accuracy: 0.9978 - val_loss: 0.8700 - val_accuracy: 0.6667\n",
            "Epoch 35/50\n",
            "333/333 [==============================] - 16s 49ms/step - loss: 0.2599 - accuracy: 0.9974 - val_loss: 0.8777 - val_accuracy: 0.6238\n",
            "Epoch 36/50\n",
            "333/333 [==============================] - 17s 51ms/step - loss: 0.2630 - accuracy: 0.9940 - val_loss: 1.5922 - val_accuracy: 0.3333\n",
            "Epoch 37/50\n",
            "333/333 [==============================] - 16s 49ms/step - loss: 0.2534 - accuracy: 0.9984 - val_loss: 1.5499 - val_accuracy: 0.3333\n",
            "Epoch 38/50\n",
            "333/333 [==============================] - 18s 53ms/step - loss: 0.2563 - accuracy: 0.9986 - val_loss: 0.3306 - val_accuracy: 0.9604\n",
            "Epoch 39/50\n",
            "333/333 [==============================] - 17s 50ms/step - loss: 0.2536 - accuracy: 0.9984 - val_loss: 0.3968 - val_accuracy: 0.9307\n",
            "Epoch 40/50\n",
            "333/333 [==============================] - 17s 50ms/step - loss: 0.2560 - accuracy: 0.9982 - val_loss: 0.3477 - val_accuracy: 1.0000\n",
            "Epoch 41/50\n",
            "333/333 [==============================] - 16s 49ms/step - loss: 0.2554 - accuracy: 0.9980 - val_loss: 0.5042 - val_accuracy: 0.8746\n",
            "Epoch 42/50\n",
            "333/333 [==============================] - 17s 50ms/step - loss: 0.2545 - accuracy: 0.9976 - val_loss: 0.2358 - val_accuracy: 1.0000\n",
            "Epoch 43/50\n",
            "333/333 [==============================] - 16s 49ms/step - loss: 0.2599 - accuracy: 0.9944 - val_loss: 1.4454 - val_accuracy: 0.3333\n",
            "Epoch 44/50\n",
            "333/333 [==============================] - 16s 49ms/step - loss: 0.2568 - accuracy: 0.9986 - val_loss: 1.3558 - val_accuracy: 0.3333\n",
            "Epoch 45/50\n",
            "333/333 [==============================] - 16s 49ms/step - loss: 0.2532 - accuracy: 0.9994 - val_loss: 1.0444 - val_accuracy: 0.3993\n",
            "Epoch 46/50\n",
            "333/333 [==============================] - 16s 49ms/step - loss: 0.2542 - accuracy: 0.9992 - val_loss: 0.2415 - val_accuracy: 1.0000\n",
            "Epoch 47/50\n",
            "333/333 [==============================] - 16s 49ms/step - loss: 0.2555 - accuracy: 0.9976 - val_loss: 0.5118 - val_accuracy: 0.8185\n",
            "Epoch 48/50\n",
            "333/333 [==============================] - 16s 49ms/step - loss: 0.2611 - accuracy: 0.9970 - val_loss: 1.1539 - val_accuracy: 0.3465\n",
            "Epoch 49/50\n",
            "333/333 [==============================] - 16s 49ms/step - loss: 0.2572 - accuracy: 0.9978 - val_loss: 0.4498 - val_accuracy: 0.9934\n",
            "Epoch 50/50\n",
            "333/333 [==============================] - 16s 49ms/step - loss: 0.2544 - accuracy: 0.9988 - val_loss: 0.4500 - val_accuracy: 1.0000\n"
          ]
        }
      ],
      "source": [
        "trained_model = model.fit(\n",
        "    x_train,\n",
        "    y_train,\n",
        "    batch_size=15,\n",
        "    epochs=2,\n",
        "    validation_data=(x_test, y_test),\n",
        "    shuffle=True\n",
        ")"
      ]
    },
    {
      "cell_type": "code",
      "execution_count": null,
      "metadata": {
        "id": "LaPdBGAXpeeh"
      },
      "outputs": [],
      "source": [
        "#save mode\n",
        "model.save('my_model_dataset.h5_new_100')"
      ]
    },
    {
      "cell_type": "code",
      "execution_count": null,
      "metadata": {
        "id": "iJczMWztyd16",
        "colab": {
          "base_uri": "https://localhost:8080/",
          "height": 332
        },
        "outputId": "e7dab21a-51bc-4f73-ce10-ec6635051947"
      },
      "outputs": [
        {
          "output_type": "stream",
          "name": "stdout",
          "text": [
            "0.9993987679481506\n",
            "1.0\n"
          ]
        },
        {
          "output_type": "display_data",
          "data": {
            "text/plain": [
              "<Figure size 432x288 with 1 Axes>"
            ],
            "image/png": "[encoded data removed]"
          },
          "metadata": {
            "needs_background": "light"
          }
        }
      ],
      "source": [
        "plt.plot(trained_model.history['accuracy'])\n",
        "plt.plot(trained_model.history['val_accuracy'])\n",
        "plt.title('model accuracy')\n",
        "plt.ylabel('accuracy')\n",
        "plt.xlabel('epoch')\n",
        "plt.legend(['train', 'test'], loc='upper left')\n",
        "\n",
        "print(np.max(trained_model.history['accuracy']))\n",
        "print(np.max(trained_model.history['val_accuracy']))"
      ]
    },
    {
      "cell_type": "code",
      "execution_count": null,
      "metadata": {
        "id": "U8ASqh8oyd16",
        "colab": {
          "base_uri": "https://localhost:8080/",
          "height": 332
        },
        "outputId": "b57bee9e-7fe8-470f-fd2d-1047cc3d51c4"
      },
      "outputs": [
        {
          "output_type": "stream",
          "name": "stdout",
          "text": [
            "0.25301453471183777\n",
            "0.23578494787216187\n"
          ]
        },
        {
          "output_type": "display_data",
          "data": {
            "text/plain": [
              "<Figure size 432x288 with 1 Axes>"
            ],
            "image/png": "[encoded data removed]"
          },
          "metadata": {
            "needs_background": "light"
          }
        }
      ],
      "source": [
        "plt.plot(trained_model.history['loss'])\n",
        "plt.plot(trained_model.history['val_loss'])\n",
        "plt.title('model loss')\n",
        "plt.ylabel('loss')\n",
        "plt.xlabel('epoch')\n",
        "plt.legend(['train', 'test'], loc='upper left')\n",
        "\n",
        "print(np.min(trained_model.history['loss']))\n",
        "print(np.min(trained_model.history['val_loss']))"
      ]
    }
  ],
  "metadata": {
    "accelerator": "GPU",
    "colab": {
      "provenance": [],
      "include_colab_link": true
    },
    "gpuClass": "standard",
    "kernelspec": {
      "display_name": "Python 3",
      "name": "python3"
    },
    "language_info": {
      "name": "python"
    }
  },
  "nbformat": 4,
  "nbformat_minor": 0
}